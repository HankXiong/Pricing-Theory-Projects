{
 "cells": [
  {
   "cell_type": "code",
   "execution_count": 1,
   "metadata": {},
   "outputs": [],
   "source": [
    "## initial set up\n",
    "import numpy as np\n",
    "\n",
    "r0 = 0.02\n",
    "alpha = 3\n",
    "sigma = 0.01\n",
    "theta0 = 0.03\n",
    "beta = 1\n",
    "phi = 0.05\n",
    "eta = 0.005"
   ]
  },
  {
   "cell_type": "markdown",
   "metadata": {},
   "source": [
    "#### Functions to compute bond price\n",
    "compute B_t(T),C_t(T), A_t(T), since A_t(T) is too complicated, so we merely use numerical approximation\n",
    "y_t compute yield price"
   ]
  },
  {
   "cell_type": "code",
   "execution_count": 2,
   "metadata": {},
   "outputs": [],
   "source": [
    "#%%\n",
    "from math import exp\n",
    "B_t = lambda t,T : 1/alpha * (1 - exp(alpha*(t-T)))\n",
    "\n",
    "C_t = lambda t,T : (exp(alpha * (t-T)) - exp(beta * (t-T))) / (alpha - beta) + (1 - exp(beta * (t-T))) / beta\n",
    "'''\n",
    "def A_t(t,T):\n",
    "    C = 1/10000/18 * (T -2/3 + 1/6) - 0.05 * (T - 4/3) + 0.25 / 10000/2 *(1/24 - 3/8 + 1/3 + 9/8 - 3 + T)\n",
    "    tau = t -T\n",
    "    part1 = 1/10000/18 * (t - 2/3 * exp(3*tau) + exp(6*tau) /6)\n",
    "    part2 = 0.05 * (t - 3/2 * exp(tau) + exp(3 * tau)/3)\n",
    "    part3 = 0.25/10000/2 * (exp(6*tau)/24 - 3/8 * exp(4*tau) + exp(3*tau)/3 + 9/8 * exp(2*tau) - 3*exp(tau) + t)\n",
    "    return C - part1 + part2 - part3\n",
    "'''\n",
    "##use numerial method\n",
    "def A_t(t,T,dt):\n",
    "    N = int(T / dt)\n",
    "    A = np.zeros(N+1)\n",
    "    A[N] = 0 ## end condition\n",
    "    for i in np.arange(N-1,-1,-1):\n",
    "        B = sigma**2/2 * B_t((i+1)*dt,T)**2\n",
    "        C1 = beta * phi * C_t((i+1)*dt,T)\n",
    "        C2 = eta**2/2 * C_t((i+1)*dt,T)**2\n",
    "        A[i] = A[i+1] + dt * (B - C1 + C2)\n",
    "        if i == int(t/dt - 1):\n",
    "            break\n",
    "    return A[i]\n",
    "\n",
    "def P_t(t,T,rt,thetat):\n",
    "    return exp(A_t(t,T,0.001) - B_t(t,T) * rt - C_t(t,T) * thetat)\n",
    "\n",
    "def y_t(t,T):\n",
    "    return ( A_t(t,T,0.001) -B_t(t,T) * r0 - C_t(t,T) * theta0) / (t-T)"
   ]
  },
  {
   "cell_type": "code",
   "execution_count": 7,
   "metadata": {},
   "outputs": [
    {
     "data": {
      "text/plain": [
       "Text(0.5,1,'Term Structure of Interest Rate')"
      ]
     },
     "execution_count": 7,
     "metadata": {},
     "output_type": "execute_result"
    },
    {
     "data": {
      "image/png": "[encoded data removed]",
      "text/plain": [
       "<Figure size 864x432 with 2 Axes>"
      ]
     },
     "metadata": {
      "needs_background": "light"
     },
     "output_type": "display_data"
    }
   ],
   "source": [
    "#%% T1 plot\n",
    "import matplotlib.pyplot as plt\n",
    "T_set = [1/12, 1/6, 1/4,1/3, 1/2,3/4,1,2,3,4,5]\n",
    "Yield_exact = np.zeros(len(T_set))\n",
    "for i in range(len(T_set)):\n",
    "    Yield_exact[i] = y_t(0,T_set[i])\n",
    "\n",
    "plt.figure(figsize = [12,6])\n",
    "plt.subplot(1,2,1)\n",
    "plt.plot(T_set,Yield_exact,'b*-',label = 'Yield Exact')\n",
    "plt.title('Term Structure of Interest Rate')\n",
    "\n",
    "plt.subplot(1,2,2)\n",
    "plt.plot(T_set[:6],Yield_exact[:6],'b*-',label = 'Yield Exact')\n",
    "plt.title('Term Structure of Interest Rate')"
   ]
  },
  {
   "cell_type": "markdown",
   "metadata": {},
   "source": [
    "#### Simulation to compute bond yield"
   ]
  },
  {
   "cell_type": "code",
   "execution_count": 9,
   "metadata": {},
   "outputs": [],
   "source": [
    "def TwoFactor_Vasicek(parameters,T, m, deltat = None, random = 1):\n",
    "    '''\n",
    "    parameters is parameter set\n",
    "    T,deltat is total time and time step\n",
    "    m is the number of path \n",
    "    random is random seed state\n",
    "    '''\n",
    "    r0 = parameters[0]; alpha = parameters[1]; sigma = parameters[2]\n",
    "    theta0 = parameters[3]; beta = parameters[4]; phi = parameters[5]\n",
    "    eta = parameters[6]\n",
    "    if deltat == None:\n",
    "        n = 1000\n",
    "        deltat = T / n\n",
    "    else:\n",
    "        n = int(T / deltat)\n",
    "    sqrtt = np.sqrt(deltat)\n",
    "    np.random.seed(7 * random); W1 = np.random.normal(size = [n,m])\n",
    "    np.random.seed(9 * random); W2 = np.random.normal(size = [n,m])\n",
    "    r = np.zeros([n+1,m]); theta = np.zeros([n+1,m]) ## each column is a path, each row is a time index\n",
    "    r[0,:] = r0; theta[0,:] = theta0\n",
    "    ## simulate path of theta and r\n",
    "    for i in range(0,n):\n",
    "        theta[i+1,:] = theta[i,:] + beta * (phi - theta[i,:]) * deltat + eta * W2[i,:] * sqrtt\n",
    "        \n",
    "        r[i+1,:] = r[i,:] + alpha * (theta[i,:] - r[i,:]) * deltat + sigma * W1[i,:] * sqrtt\n",
    "     \n",
    "    ## compute integral of r from starting to ending\n",
    "    BondPrice = np.exp(-r[:-1,:].sum(axis = 0) * deltat).mean()\n",
    "    BondYield = -np.log(BondPrice) / T\n",
    "    return BondYield"
   ]
  },
  {
   "cell_type": "markdown",
   "metadata": {},
   "source": [
    "#### Compute Confidence Interval\n",
    "For each T, simulate the BondYield 500 times and use 5%,95% number as its lower and upper bound, the interval is very tight.\n",
    "\n",
    "In addition, by changing the 'parameters' we are able to investgate the effect of each parameter."
   ]
  },
  {
   "cell_type": "code",
   "execution_count": 10,
   "metadata": {},
   "outputs": [
    {
     "name": "stdout",
     "output_type": "stream",
     "text": [
      "---T = 0.0833---\n",
      "Bond Yield interval: 0.02113 0.02121 0.02129\n",
      "---T = 0.1667---\n",
      "Bond Yield interval: 0.02226 0.02236 0.02247\n",
      "---T = 0.2500---\n",
      "Bond Yield interval: 0.02333 0.02345 0.02357\n",
      "---T = 0.3333---\n",
      "Bond Yield interval: 0.02435 0.02448 0.02461\n",
      "---T = 0.5000---\n",
      "Bond Yield interval: 0.02624 0.02638 0.02652\n",
      "---T = 0.7500---\n",
      "Bond Yield interval: 0.02874 0.02888 0.02903\n",
      "---T = 1.0000---\n",
      "Bond Yield interval: 0.03087 0.03102 0.03117\n",
      "---T = 2.0000---\n",
      "Bond Yield interval: 0.03688 0.03702 0.03715\n",
      "---T = 3.0000---\n",
      "Bond Yield interval: 0.04036 0.04048 0.04061\n",
      "---T = 4.0000---\n",
      "Bond Yield interval: 0.04250 0.04262 0.04274\n",
      "---T = 5.0000---\n",
      "Bond Yield interval: 0.04391 0.04402 0.04414\n"
     ]
    }
   ],
   "source": [
    "parameters = [r0,alpha,sigma,theta0,beta,phi,eta]\n",
    "T_set = [1/12, 1/6, 1/4,1/3, 1/2,3/4, 1,2,3,4,5]\n",
    "BondYield_set = np.zeros([3,len(T_set)])\n",
    "\n",
    "for j in range(len(T_set)):\n",
    "    print('---T = %0.4f---' % T_set[j])\n",
    "    temp = []\n",
    "    for i in range(500):\n",
    "        Yield = TwoFactor_Vasicek(parameters, T_set[j],1000,random = i+1)\n",
    "        temp.append(Yield)\n",
    "    lower = np.percentile(temp,5)\n",
    "    upper = np.percentile(temp,95)\n",
    "    mean = np.mean(temp)\n",
    "    print('Bond Yield interval: %0.5f %0.5f %0.5f' % (lower, mean, upper) )\n",
    "    BondYield_set[0,j] = lower\n",
    "    BondYield_set[1,j] = mean\n",
    "    BondYield_set[2,j] = upper"
   ]
  },
  {
   "cell_type": "code",
   "execution_count": 11,
   "metadata": {},
   "outputs": [
    {
     "data": {
      "text/plain": [
       "<matplotlib.legend.Legend at 0x2bf39b91cc0>"
      ]
     },
     "execution_count": 11,
     "metadata": {},
     "output_type": "execute_result"
    },
    {
     "data": {
      "image/png": "[encoded data removed]",
      "text/plain": [
       "<Figure size 864x432 with 2 Axes>"
      ]
     },
     "metadata": {
      "needs_background": "light"
     },
     "output_type": "display_data"
    }
   ],
   "source": [
    "#%% plot of Bond Yield\n",
    "plt.figure(figsize = [12,6])\n",
    "plt.subplot(1,2,1)\n",
    "plt.plot(T_set[:7], BondYield_set[1,:7], 'k*-',label = 'Mean Yield',markersize = 3)\n",
    "plt.plot(T_set[:7], BondYield_set[0,:7], 'r:',label = 'Yield 5% bound')\n",
    "plt.plot(T_set[:7], BondYield_set[2,:7],  'r:' ,label = 'Yield 95% bound')\n",
    "plt.title('Bond Yield Term Structure')\n",
    "plt.xlabel('T')\n",
    "plt.ylabel('Bond Yield')\n",
    "plt.legend()\n",
    "#%%\n",
    "plt.subplot(1,2,2)\n",
    "plt.plot(T_set, BondYield_set[1,:], 'k*-',label = 'Mean Yield',markersize = 3)\n",
    "plt.plot(T_set, BondYield_set[0,:], 'r:',label = 'Yield 5% bound')\n",
    "plt.plot(T_set, BondYield_set[2,:],  'r:' ,label = 'Yield 95% bound')\n",
    "plt.title('Bond Yield Term Structure')\n",
    "plt.xlabel('T')\n",
    "plt.ylabel('Bond Yield')\n",
    "plt.legend()"
   ]
  },
  {
   "cell_type": "markdown",
   "metadata": {},
   "source": [
    "#### Functions to compute bond option price\n",
    "Based on analytical expression, we define function BondOptionPrice to compute the exact bond option price\n",
    "\n",
    "Based on simulation, we are able to approximate the price using TwoFactor_BondOption"
   ]
  },
  {
   "cell_type": "code",
   "execution_count": 12,
   "metadata": {},
   "outputs": [],
   "source": [
    "#%% T4 exact\n",
    "import scipy.integrate as si\n",
    "from scipy.stats import norm\n",
    "T1 = 1; T2 = 3;\n",
    "def sigmaBar(t,T1,T2):\n",
    "    betat = B_t(t,T2) - B_t(t,T1)\n",
    "    gammat = C_t(t,T2) - C_t(t,T1)\n",
    "    sigmaBar_t = (betat*sigma) **2 + (gammat * eta)**2\n",
    "    return sigmaBar_t\n",
    "\n",
    "def BondOptionPrice(K,t,T1,T2):\n",
    "    Omega = np.sqrt(si.quad(sigmaBar,t,T1,args = (T1,T2))[0])\n",
    "    g0 = P_t(t,T2,r0,theta0) / P_t(t,T1,r0,theta0)\n",
    "    d1 = (np.log(g0/K) + 0.5*Omega**2) / Omega\n",
    "    d2 = (np.log(g0/K) - 0.5*Omega**2) / Omega\n",
    "    f0 = P_t(t,T1,r0,theta0) * (g0 * norm.cdf(d1) - K * norm.cdf(d2))\n",
    "    return f0"
   ]
  },
  {
   "cell_type": "code",
   "execution_count": 13,
   "metadata": {},
   "outputs": [],
   "source": [
    "#%% T4 simulation\n",
    "def TwoFactor_BondOption(parameters,T1,T, K, m, deltat = None, random = 1):\n",
    "    '''\n",
    "    parameters is parameter set\n",
    "    T,deltat is total time and time step\n",
    "    m is the number of path \n",
    "    K is strike price\n",
    "    random is random seed state\n",
    "    '''\n",
    "    r0 = parameters[0]; alpha = parameters[1]; sigma = parameters[2]\n",
    "    theta0 = parameters[3]; beta = parameters[4]; phi = parameters[5]\n",
    "    eta = parameters[6]\n",
    "    if deltat == None:\n",
    "        n = 1000\n",
    "        deltat = T / n\n",
    "    else:\n",
    "        n = int(T / deltat)\n",
    "    sqrtt = np.sqrt(deltat)\n",
    "    np.random.seed(7 * random); W1 = np.random.normal(size = [n,m])\n",
    "    np.random.seed(9 * random); W2 = np.random.normal(size = [n,m])\n",
    "    r = np.zeros([n+1,m]); theta = np.zeros([n+1,m]) ## each column is a path, each row is a time index\n",
    "    r[0,:] = r0; theta[0,:] = theta0\n",
    "    ## simulate path of theta and r\n",
    "    for i in range(0,n):\n",
    "        theta[i+1,:] = theta[i,:] + beta * (phi - theta[i,:]) * deltat + eta * W2[i,:] * sqrtt\n",
    "        \n",
    "        r[i+1,:] = r[i,:] + alpha * (theta[i,:] - r[i,:]) * deltat + sigma * W1[i,:] * sqrtt\n",
    "     \n",
    "    ## compute integral of r from starting to ending\n",
    "    price = np.exp(-(r[int(T1/deltat):-1,:]).sum(axis = 0) * deltat)\n",
    "    payoff = np.where(price - K >0, price - K,0)\n",
    "    return np.mean(payoff) * P_t(0,T1,r0,theta0) ## use P_0(T1) to depreciate the price"
   ]
  },
  {
   "cell_type": "code",
   "execution_count": 14,
   "metadata": {},
   "outputs": [
    {
     "name": "stdout",
     "output_type": "stream",
     "text": [
      "Simulate: 0.26573 Exact: 0.26569\n",
      "Simulate: 0.22144 Exact: 0.22141\n",
      "Simulate: 0.17716 Exact: 0.17713\n",
      "Simulate: 0.13288 Exact: 0.13285\n",
      "Simulate: 0.08860 Exact: 0.08856\n",
      "Simulate: 0.04431 Exact: 0.04428\n",
      "Simulate: 0.00229 Exact: 0.00128\n",
      "Simulate: 0.00000 Exact: 0.00000\n",
      "Simulate: 0.00000 Exact: 0.00000\n",
      "Simulate: 0.00000 Exact: 0.00000\n",
      "Simulate: 0.00000 Exact: 0.00000\n",
      "Simulate: 0.00000 Exact: 0.00000\n",
      "Simulate: 0.00000 Exact: 0.00000\n",
      "Simulate: 0.00000 Exact: 0.00000\n"
     ]
    },
    {
     "data": {
      "text/plain": [
       "Text(0.5,0,' $\\\\alpha$ ')"
      ]
     },
     "execution_count": 14,
     "metadata": {},
     "output_type": "execute_result"
    },
    {
     "data": {
      "image/png": "[encoded data removed]",
      "text/plain": [
       "<Figure size 432x288 with 1 Axes>"
      ]
     },
     "metadata": {
      "needs_background": "light"
     },
     "output_type": "display_data"
    }
   ],
   "source": [
    "#%% T4 plot, prove the simulaton is close to exact expression\n",
    "parameters = [r0,alpha,sigma,theta0,beta,phi,eta]\n",
    "K = P_t(0,T2,r0,theta0) / P_t(0,T1,r0,theta0)\n",
    "frac = np.arange(0.7,1.35,0.05)\n",
    "simulate_price = np.zeros(len(frac))\n",
    "exact_price = np.zeros(len(frac))\n",
    "for i in range(len(frac)):\n",
    "    simulate_price[i] = TwoFactor_BondOption(parameters,T1,T2, K * frac[i], 5000,deltat = 0.001)\n",
    "    exact_price[i] = BondOptionPrice(K * frac[i],0,T1,T2)\n",
    "    print('Simulate: %.5f Exact: %.5f' % (simulate_price[i],exact_price[i]))\n",
    "\n",
    "plt.plot(frac,simulate_price,'b*--',label = 'Simulate')\n",
    "plt.plot(frac,exact_price,'k*--',label = 'Analytical')\n",
    "plt.legend()\n",
    "plt.title('Bond Option Price Analytical v.s Simulate')\n",
    "plt.xlabel(r' $\\alpha$ ')"
   ]
  },
  {
   "cell_type": "markdown",
   "metadata": {},
   "source": [
    "#### Use simulation to compute r and theta at time t0 so that we can compute the bond price in order to get  the swap_rate at t0.\n",
    "Then we are able to get Annuity at t0 and strike price K which is swap_rate at time 0 so that we can compute exact Value_t0.\n",
    "\n",
    "Then we find volatility to make the Annuity_0 * (BS alike equation) equals to V_t0"
   ]
  },
  {
   "cell_type": "code",
   "execution_count": 15,
   "metadata": {},
   "outputs": [],
   "source": [
    "#%% T5 simulation to get r_t0 ,theta_t0 so that to compute Swap_rate at t0\n",
    "def TwoFactor_Path(parameters,t0,T, m, deltat = None, random = 1):\n",
    "    '''\n",
    "    parameters is parameter set\n",
    "    T,deltat is total time and time step\n",
    "    m is the number of path \n",
    "    random is random seed state\n",
    "    '''\n",
    "    r0 = parameters[0]; alpha = parameters[1]; sigma = parameters[2]\n",
    "    theta0 = parameters[3]; beta = parameters[4]; phi = parameters[5]\n",
    "    eta = parameters[6]\n",
    "    if deltat == None:\n",
    "        n = 1000\n",
    "        deltat = T / n\n",
    "    else:\n",
    "        n = int(T / deltat)\n",
    "    sqrtt = np.sqrt(deltat)\n",
    "    np.random.seed(7 * random); W1 = np.random.normal(size = [n,m])\n",
    "    np.random.seed(9 * random); W2 = np.random.normal(size = [n,m])\n",
    "    r = np.zeros([n+1,m]); theta = np.zeros([n+1,m]) ## each column is a path, each row is a time index\n",
    "    r[0,:] = r0; theta[0,:] = theta0\n",
    "    ## simulate path of theta and r\n",
    "    for i in range(0,n):\n",
    "        theta[i+1,:] = theta[i,:] + beta * (phi - theta[i,:]) * deltat + eta * W2[i,:] * sqrtt\n",
    "        \n",
    "        r[i+1,:] = r[i,:] + alpha * (theta[i,:] - r[i,:]) * deltat + sigma * W1[i,:] * sqrtt\n",
    "     \n",
    "    r_t0 = r[int(t0/deltat),:].mean()\n",
    "    theta_t0 = theta[int(t0/deltat),:].mean()\n",
    "    return [r_t0,theta_t0]"
   ]
  },
  {
   "cell_type": "code",
   "execution_count": 16,
   "metadata": {},
   "outputs": [],
   "source": [
    "structure = np.arange(3.25,6,0.25)\n",
    "t0 = 3;T = 6\n",
    "\n",
    "## compute strike price K\n",
    "Annuity_0 = 0\n",
    "for i in range(len(structure)):\n",
    "    Annuity_0 += P_t(0,structure[i],r0,theta0) * 0.25\n",
    "K = (P_t(0,t0,r0,theta0) - P_t(0,T,r0,theta0)) / Annuity_0 ## today's swap rate\n",
    "\n",
    "r_t0,theta_t0 = TwoFactor_Path(parameters,3,6,50000,deltat=0.001,random = 1) ##simulate r_t0, theta_t0\n",
    "\n",
    "##compute swap_rate at t0\n",
    "Annuity_t0 =  0\n",
    "for i in range(len(structure)):\n",
    "    Annuity_t0 += P_t(t0,structure[i],r_t0,theta_t0) * 0.25\n",
    "\n",
    "swap_t0 = (P_t(t0,t0,r_t0,theta_t0) - P_t(t0,T,r_t0,theta_t0)) / Annuity_t0\n",
    "\n",
    "##get value at t0\n",
    "V_t0 = Annuity_t0 * max(swap_t0 - K,0)"
   ]
  },
  {
   "cell_type": "code",
   "execution_count": 17,
   "metadata": {},
   "outputs": [],
   "source": [
    "#%% Used to find implied volatility\n",
    "n = norm.pdf\n",
    "N = norm.cdf\n",
    "def bs_price(cp_flag,S,K,T,r,v,q=0.0):\n",
    "    d1 = (np.log(S/K)+(r+v*v/2.)*T)/(v*np.sqrt(T))\n",
    "    d2 = d1-v*np.sqrt(T)\n",
    "    if cp_flag == 'c':\n",
    "        price = S*np.exp(-q*T)*N(d1)-K*np.exp(-r*T)*N(d2)\n",
    "    else:\n",
    "        price = K*np.exp(-r*T)*N(-d2)-S*np.exp(-q*T)*N(-d1)\n",
    "    return price\n",
    "\n",
    "def bs_vega(S,K,T,r,v,q=0.0):\n",
    "    d1 = (np.log(S/K)+(r+v*v/2.)*T)/(v*np.sqrt(T))\n",
    "    return S * np.sqrt(T)*n(d1)\n",
    "\n",
    "def find_vol(target_value, call_put, S, K, T, r):\n",
    "    MAX_ITERATIONS = 100\n",
    "    PRECISION = 1.0e-20\n",
    "\n",
    "    sigma = 0.5\n",
    "    for i in np.arange(0, MAX_ITERATIONS):\n",
    "        price = bs_price(call_put, S, K, T, r, sigma)\n",
    "        vega = bs_vega(S, K, T, r, sigma)\n",
    "\n",
    "        diff = target_value - price  # our root\n",
    "        if (abs(diff) < PRECISION):\n",
    "            print(sigma, price,diff)\n",
    "            return sigma\n",
    "        sigma = sigma + diff/vega # f(x) / f'(x)\n",
    "\n",
    "    # value wasn't found, return best guess so far\n",
    "    return sigma"
   ]
  },
  {
   "cell_type": "code",
   "execution_count": 18,
   "metadata": {},
   "outputs": [
    {
     "data": {
      "text/plain": [
       "0.0005777497426981432"
      ]
     },
     "execution_count": 18,
     "metadata": {},
     "output_type": "execute_result"
    }
   ],
   "source": [
    "## find implied volatility \n",
    "V_t0 = Annuity_t0 * max(swap_t0 - K,0)\n",
    "find_vol(V_t0/Annuity_0,'c',K,K,t0,r=0 )    ## 0.00057775"
   ]
  },
  {
   "cell_type": "code",
   "execution_count": 19,
   "metadata": {},
   "outputs": [
    {
     "name": "stderr",
     "output_type": "stream",
     "text": [
      "E:\\Software\\Anaconda\\lib\\site-packages\\ipykernel_launcher.py:30: RuntimeWarning: divide by zero encountered in double_scalars\n",
      "E:\\Software\\Anaconda\\lib\\site-packages\\ipykernel_launcher.py:5: RuntimeWarning: invalid value encountered in double_scalars\n",
      "  \"\"\"\n",
      "E:\\Software\\Anaconda\\lib\\site-packages\\scipy\\stats\\_distn_infrastructure.py:879: RuntimeWarning: invalid value encountered in greater\n",
      "  return (self.a < x) & (x < self.b)\n",
      "E:\\Software\\Anaconda\\lib\\site-packages\\scipy\\stats\\_distn_infrastructure.py:879: RuntimeWarning: invalid value encountered in less\n",
      "  return (self.a < x) & (x < self.b)\n",
      "E:\\Software\\Anaconda\\lib\\site-packages\\scipy\\stats\\_distn_infrastructure.py:1738: RuntimeWarning: invalid value encountered in greater_equal\n",
      "  cond2 = (x >= self.b) & cond0\n",
      "E:\\Software\\Anaconda\\lib\\site-packages\\ipykernel_launcher.py:14: RuntimeWarning: invalid value encountered in double_scalars\n",
      "  \n",
      "E:\\Software\\Anaconda\\lib\\site-packages\\scipy\\stats\\_distn_infrastructure.py:876: RuntimeWarning: invalid value encountered in greater_equal\n",
      "  return (self.a <= x) & (x <= self.b)\n",
      "E:\\Software\\Anaconda\\lib\\site-packages\\scipy\\stats\\_distn_infrastructure.py:876: RuntimeWarning: invalid value encountered in less_equal\n",
      "  return (self.a <= x) & (x <= self.b)\n"
     ]
    },
    {
     "name": "stdout",
     "output_type": "stream",
     "text": [
      "0.0007227274426937694 7.810064865350378e-21 -7.810064865350378e-21\n",
      "0.0014232298965475858 7.718832023248651e-21 -7.718832023248651e-21\n",
      "0.0021010608284043487 5.450055990499987e-21 -5.450055990499987e-21\n",
      "0.0034441045783265697 5.618625669721098e-21 -5.618625669721098e-21\n",
      "0.004081360570723767 3.9024659987930246e-21 -3.9024659987930246e-21\n",
      "0.0047638627292412574 6.579078083253407e-21 -6.579078083253407e-21\n",
      "0.005409659895489774 6.673445689264721e-21 -6.673445689264721e-21\n",
      "0.006009748095576169 4.282234133641236e-21 -4.282234133641236e-21\n",
      "0.006672277244993368 6.2595132381254615e-21 -6.2595132381254615e-21\n"
     ]
    },
    {
     "data": {
      "text/plain": [
       "Text(0.5,0,'$\\\\alpha (* K)$')"
      ]
     },
     "execution_count": 19,
     "metadata": {},
     "output_type": "execute_result"
    },
    {
     "data": {
      "image/png": "[encoded data removed]",
      "text/plain": [
       "<Figure size 432x288 with 1 Axes>"
      ]
     },
     "metadata": {
      "needs_background": "light"
     },
     "output_type": "display_data"
    }
   ],
   "source": [
    "#%% T5 plot, I don't know why there are some nans\n",
    "ffrac = np.arange(0.9,1.1,0.01)\n",
    "implied_vol = np.zeros(len(ffrac))\n",
    "for i in range(len(ffrac)):\n",
    "    V_t0 = Annuity_t0 * max(swap_t0 - K* ffrac[i],0)\n",
    "    implied_vol[i] = find_vol(V_t0 / Annuity_0, 'c',K,K*ffrac[i],t0,0)\n",
    "\n",
    "plt.plot(ffrac,implied_vol,'*')\n",
    "plt.title('Black Implied Volatility')\n",
    "plt.xlabel(r'$\\alpha (* K)$')"
   ]
  }
 ],
 "metadata": {
  "kernelspec": {
   "display_name": "Python 3",
   "language": "python",
   "name": "python3"
  },
  "language_info": {
   "codemirror_mode": {
    "name": "ipython",
    "version": 3
   },
   "file_extension": ".py",
   "mimetype": "text/x-python",
   "name": "python",
   "nbconvert_exporter": "python",
   "pygments_lexer": "ipython3",
   "version": "3.7.1"
  }
 },
 "nbformat": 4,
 "nbformat_minor": 2
}
