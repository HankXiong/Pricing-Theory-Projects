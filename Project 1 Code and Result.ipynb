{
 "cells": [
  {
   "cell_type": "code",
   "execution_count": 1,
   "metadata": {},
   "outputs": [],
   "source": [
    "#%%  American option\n",
    "import numpy as np\n",
    "import pandas as pd\n",
    "T=1\n",
    "S0=10\n",
    "mu=0.05\n",
    "sigma=0.2\n",
    "sigma1=0.2\n",
    "r=0.02\n",
    "N=5000\n",
    "K = 10\n",
    "option_type='put'\n",
    "\n",
    "#sigma1 = 0.2 ## realized volaility for the last question"
   ]
  },
  {
   "cell_type": "code",
   "execution_count": 2,
   "metadata": {},
   "outputs": [],
   "source": [
    "#%% under Q probability space\n",
    "deltat = T/N\n",
    "u = np.exp(r * deltat + sigma * np.sqrt(deltat))  ##from the model assumptiop, different with CRR\n",
    "d = np.exp(r * deltat - sigma * np.sqrt(deltat))\n",
    "pu = (np.exp(r * deltat) - d)/(u-d)  ### pu is equivalent to Q in 2nd question\n",
    "pd = 1 - pu"
   ]
  },
  {
   "cell_type": "markdown",
   "metadata": {},
   "source": [
    "##### Calculate American option price\n",
    "Define a price N+1 * N+1 matrix, and use the upper triangle to simulte price and value"
   ]
  },
  {
   "cell_type": "code",
   "execution_count": 3,
   "metadata": {},
   "outputs": [],
   "source": [
    "price_matrix = np.zeros([N+1,N+1]) #Save stock price\n",
    "price_matrix[:] = np.nan\n",
    "price_matrix[0,0] = S0\n",
    "for i in range(0,N):\n",
    "    price_matrix[0:(i+1),i+1] = price_matrix[0:(i+1),i] * u\n",
    "    price_matrix[i+1,i+1] = price_matrix[i,i] * d  \n",
    "\n",
    "def value_matrix_calculation(price_matrix, N, option_type, pu, pd):\n",
    "    ##N is steps\n",
    "    value_matrix = np.zeros_like(price_matrix)\n",
    "    value_matrix[:] = np.nan\n",
    "    if option_type == 'put':\n",
    "        value_matrix[0:N+1,N] =  np.where((K - price_matrix[0:N+1,N])>0,K - price_matrix[0:N+1,N],0)# european put option\n",
    "        for i in range(N,0,-1):\n",
    "            temporary_value = np.exp(-r * deltat) * (pu * value_matrix[0:i,i] + pd * value_matrix[1:(i+1),i])#hold value\n",
    "            price_value = np.where((K - price_matrix[0:i,i-1]) >= 0,K- price_matrix[0:i,i-1],0)#exercise value\n",
    "            value_matrix[0:i,i-1] = np.where(temporary_value > price_value,temporary_value,price_value)#american option value at each time step \n",
    "    elif option_type == 'call':\n",
    "        value_matrix[0:N+1,N] =  np.where((price_matrix[0:N+1,N] - K )>0,price_matrix[0:N+1,N] - K,0)\n",
    "        for i in range(N,0,-1):\n",
    "            temporary_value = np.exp(-r * deltat) * (pu * value_matrix[0:i,i] + pd * value_matrix[1:(i+1),i])\n",
    "            price_value = np.where((price_matrix[0:i,i-1] - K) >= 0,price_matrix[0:i,i-1]- K,0)\n",
    "            value_matrix[0:i,i-1] = np.where(temporary_value > price_value ,temporary_value, price_value )\n",
    "    else:\n",
    "        Warning('option type error')\n",
    "    return value_matrix\n",
    "value_matrix = value_matrix_calculation(price_matrix,N,'put',pu,pd)#american option value"
   ]
  },
  {
   "cell_type": "markdown",
   "metadata": {},
   "source": [
    "#### find exercise boundary of American put option\n",
    "Compare the value_matrix with (K - price_matrix) to determine whether it's optimal to exercise now.\n"
   ]
  },
  {
   "cell_type": "code",
   "execution_count": 4,
   "metadata": {},
   "outputs": [],
   "source": [
    "execute_price_matrix = np.zeros_like(price_matrix)\n",
    "execute_price_matrix[:] = np.nan\n",
    "for i in range(N+1):\n",
    "    price_value = np.where((K - price_matrix[0:(i+1),i]) >= 0, K- price_matrix[0:(i+1),i],0)#Value for exercising the option\n",
    "    \n",
    "    execute_price_matrix[:(i+1),i] = np.where(value_matrix[:(i+1),i] > price_value, np.nan, price_value )\n",
    "    ##if price_value== value_matrix, indicates that we should execute option now, otherwise, value_matrix > price_value\n",
    "    \n",
    "## find the first price which price_value=option_value\n",
    "execute_price = np.zeros(N+1)\n",
    "execute_price[:] = np.nan\n",
    "for j in range(N+1): ##j is columns\n",
    "    for i in range(N+1):  ## i is rows\n",
    "        if(execute_price_matrix[i, j] > 0):\n",
    "            execute_price[j] = K - execute_price_matrix[i,j]\n",
    "            break"
   ]
  },
  {
   "cell_type": "code",
   "execution_count": 6,
   "metadata": {},
   "outputs": [
    {
     "data": {
      "text/plain": [
       "Text(0.5,1,'Boundary Price when $\\\\sigma=0.2,r=0.02$')"
      ]
     },
     "execution_count": 6,
     "metadata": {},
     "output_type": "execute_result"
    },
    {
     "data": {
      "image/png": "[encoded data removed]",
      "text/plain": [
       "<Figure size 432x288 with 1 Axes>"
      ]
     },
     "metadata": {
      "needs_background": "light"
     },
     "output_type": "display_data"
    }
   ],
   "source": [
    "\n",
    "import matplotlib.pyplot as plt\n",
    "import os\n",
    "\n",
    "plt.plot(T * np.array(range(N+1))/N,execute_price,'b-',label = 'Exercise Price')\n",
    "plt.xlabel('Time',fontdict={'fontsize':14})\n",
    "plt.ylabel('Stock Price',fontdict={'fontsize':14})\n",
    "plt.title('Boundary Price when $\\sigma={},r={}$'.format(sigma,r),fontdict={'fontsize':16})\n",
    "#plt.savefig('Exercise Price for Ameriance Option sigma=02_r=002')"
   ]
  },
  {
   "cell_type": "code",
   "execution_count": 7,
   "metadata": {},
   "outputs": [
    {
     "name": "stderr",
     "output_type": "stream",
     "text": [
      "E:\\Software\\Anaconda\\lib\\site-packages\\ipykernel_launcher.py:15: RuntimeWarning: invalid value encountered in less_equal\n",
      "  from ipykernel import kernelapp as app\n"
     ]
    }
   ],
   "source": [
    "#%% under real probabiility space\n",
    "\n",
    "np.random.seed(4)\n",
    "realpu = (1+((mu-r)-sigma1**2/2)*np.sqrt(deltat)/sigma1)/2\n",
    "\n",
    "##Geberate stock price based on CRR model\n",
    "simulate = np.random.binomial(1,realpu,(N+1,10000))*2 -1  ## construct  10000 simulation,each with 5000 steps\n",
    "simulate = np.exp(r * deltat + simulate * sigma1 * np.sqrt(deltat))  ## multiplier\n",
    "simulate[0,:] =  S0  # Initialize the price; \n",
    "simulate_price = simulate.cumprod(axis=0)   ## each column is a price path\n",
    "\n",
    "stop_values = []\n",
    "stop_steps = []\n",
    "for i in range(10000):\n",
    "    cross_path = simulate_price[:,i] <= execute_price  ##check if this path crossed the execution boundary\n",
    "    if cross_path.any():\n",
    "        current_step = np.where(cross_path)[0][0]#The first cross for each simulated path\n",
    "        stop_steps.append( current_step )\n",
    "        stop_values.append( K - execute_price[current_step] )#American option value at each stop\n",
    "    else:\n",
    "        stop_steps.append(np.nan)\n",
    "        stop_values.append(0) "
   ]
  },
  {
   "cell_type": "code",
   "execution_count": 8,
   "metadata": {},
   "outputs": [
    {
     "data": {
      "text/plain": [
       "Text(0.5,1,'Profit Kernel Density')"
      ]
     },
     "execution_count": 8,
     "metadata": {},
     "output_type": "execute_result"
    },
    {
     "data": {
      "image/png": "[encoded data removed]",
      "text/plain": [
       "<Figure size 432x288 with 1 Axes>"
      ]
     },
     "metadata": {
      "needs_background": "light"
     },
     "output_type": "display_data"
    }
   ],
   "source": [
    "## kernel estimation\n",
    "from scipy.stats import gaussian_kde\n",
    "#stop_values = np.array(stop_values)[np.array(stop_values)>0]   ##consider those value>0\n",
    "kernel = gaussian_kde(stop_values)\n",
    "x_grid = np.logspace(-2,np.log10(np.max(stop_values)),num = 100)\n",
    "plt.figure()\n",
    "plt.plot(x_grid,kernel.evaluate(x_grid))\n",
    "plt.ylim([0,2.2])\n",
    "plt.xlabel('Profit',fontdict={'fontsize':14})\n",
    "plt.ylabel('Density',fontdict={'fontsize':14})\n",
    "plt.title('Profit Kernel Density',fontdict={'fontsize':20})"
   ]
  },
  {
   "cell_type": "code",
   "execution_count": 9,
   "metadata": {},
   "outputs": [
    {
     "data": {
      "image/png": "[encoded data removed]",
      "text/plain": [
       "<Figure size 432x288 with 1 Axes>"
      ]
     },
     "metadata": {
      "needs_background": "light"
     },
     "output_type": "display_data"
    }
   ],
   "source": [
    "stop_time = T * np.array(stop_steps)[~np.isnan(stop_steps)]/N  ##eliminate those don't touch the boundary   tau = T - deltaT\n",
    "kernel_step= gaussian_kde(stop_time)\n",
    "grid = np.logspace(np.log10(min(stop_time)),np.log10(max(stop_time)),num=100)\n",
    "plt.figure()\n",
    "plt.plot(grid,kernel_step.evaluate(grid))\n",
    "plt.ylim([0,3.5])\n",
    "plt.xlabel('Stop Time',fontdict={'fontsize':14})\n",
    "plt.ylabel('Density',fontdict={'fontsize':14})\n",
    "plt.title('time Kernel Density',fontdict={'fontsize':20})\n",
    "plt.savefig('time kernel distribution')\n"
   ]
  }
 ],
 "metadata": {
  "kernelspec": {
   "display_name": "Python 3",
   "language": "python",
   "name": "python3"
  },
  "language_info": {
   "codemirror_mode": {
    "name": "ipython",
    "version": 3
   },
   "file_extension": ".py",
   "mimetype": "text/x-python",
   "name": "python",
   "nbconvert_exporter": "python",
   "pygments_lexer": "ipython3",
   "version": "3.7.1"
  }
 },
 "nbformat": 4,
 "nbformat_minor": 2
}
